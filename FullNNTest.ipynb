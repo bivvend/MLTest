{
 "cells": [
  {
   "cell_type": "code",
   "execution_count": 1,
   "metadata": {},
   "outputs": [],
   "source": [
    "import numpy as np \n",
    "import pandas as pd \n",
    "import matplotlib.pyplot as plt\n",
    "import lightgbm as lgb\n",
    "from sklearn.model_selection import KFold, StratifiedKFold\n",
    "import warnings\n",
    "import gc\n",
    "import time\n",
    "import sys\n",
    "import matplotlib.pyplot as plt\n",
    "\n",
    "from sklearn.metrics import mean_squared_error, roc_auc_score, roc_curve\n",
    "warnings.simplefilter(action='ignore', category=FutureWarning)\n",
    "warnings.filterwarnings('ignore')\n",
    "\n"
   ]
  },
  {
   "cell_type": "code",
   "execution_count": 4,
   "metadata": {},
   "outputs": [],
   "source": [
    "train= pd.read_csv(\"../input/train.csv\")\n",
    "test= pd.read_csv(\"../input/test.csv\")\n"
   ]
  },
  {
   "cell_type": "code",
   "execution_count": 5,
   "metadata": {},
   "outputs": [
    {
     "ename": "NameError",
     "evalue": "name 'StandardScaler' is not defined",
     "output_type": "error",
     "traceback": [
      "\u001b[1;31m---------------------------------------------------------------------------\u001b[0m",
      "\u001b[1;31mNameError\u001b[0m                                 Traceback (most recent call last)",
      "\u001b[1;32m<ipython-input-5-c3412a316591>\u001b[0m in \u001b[0;36m<module>\u001b[1;34m\u001b[0m\n\u001b[0;32m      5\u001b[0m \u001b[1;33m\u001b[0m\u001b[0m\n\u001b[0;32m      6\u001b[0m \u001b[0mcvlist\u001b[0m \u001b[1;33m=\u001b[0m \u001b[0mlist\u001b[0m\u001b[1;33m(\u001b[0m\u001b[0mStratifiedKFold\u001b[0m\u001b[1;33m(\u001b[0m\u001b[1;36m5\u001b[0m\u001b[1;33m,\u001b[0m \u001b[0mrandom_state\u001b[0m\u001b[1;33m=\u001b[0m\u001b[1;36m12345786\u001b[0m\u001b[1;33m)\u001b[0m\u001b[1;33m.\u001b[0m\u001b[0msplit\u001b[0m\u001b[1;33m(\u001b[0m\u001b[0mX\u001b[0m\u001b[1;33m,\u001b[0m \u001b[0my\u001b[0m\u001b[1;33m)\u001b[0m\u001b[1;33m)\u001b[0m\u001b[1;33m\u001b[0m\u001b[1;33m\u001b[0m\u001b[0m\n\u001b[1;32m----> 7\u001b[1;33m \u001b[0mscaler\u001b[0m \u001b[1;33m=\u001b[0m \u001b[0mStandardScaler\u001b[0m\u001b[1;33m(\u001b[0m\u001b[1;33m)\u001b[0m\u001b[1;33m\u001b[0m\u001b[1;33m\u001b[0m\u001b[0m\n\u001b[0m\u001b[0;32m      8\u001b[0m \u001b[1;33m\u001b[0m\u001b[0m\n\u001b[0;32m      9\u001b[0m \u001b[0mX_sc\u001b[0m \u001b[1;33m=\u001b[0m \u001b[0mscaler\u001b[0m\u001b[1;33m.\u001b[0m\u001b[0mfit_transform\u001b[0m\u001b[1;33m(\u001b[0m\u001b[0mX\u001b[0m\u001b[1;33m)\u001b[0m\u001b[1;33m\u001b[0m\u001b[1;33m\u001b[0m\u001b[0m\n",
      "\u001b[1;31mNameError\u001b[0m: name 'StandardScaler' is not defined"
     ]
    }
   ],
   "source": [
    "feats = [\"var_{}\".format(i) for i in range(200)]\n",
    "X = train[feats]\n",
    "X_test = test[feats]\n",
    "y = train[\"target\"]\n",
    "\n",
    "cvlist = list(StratifiedKFold(5, random_state=12345786).split(X, y))\n",
    "scaler = StandardScaler()\n",
    "\n",
    "X_sc = scaler.fit_transform(X)\n",
    "X_test_sc = scaler.fit_transform(X_test)\n",
    "\n"
   ]
  },
  {
   "cell_type": "code",
   "execution_count": null,
   "metadata": {},
   "outputs": [],
   "source": [
    "import keras\n",
    "from keras.layers import (Flatten, Conv1D, Conv2D, Input, Dense, Dropout, BatchNormalization,\n",
    "                          concatenate, GaussianNoise, Reshape, TimeDistributed, LeakyReLU, PReLU, Embedding)\n",
    "from keras.models import Model, load_model, save_model\n",
    "from keras.optimizers import SGD, Adam\n",
    "from sklearn.base import BaseEstimator, ClassifierMixin\n",
    "from pathlib import Path\n",
    "from keras.callbacks import Callback\n",
    "\n",
    "class ROC_AUC(Callback):\n",
    "    def __init__(self, validation_data):\n",
    "        self.X_val, self.y_val = validation_data\n",
    "    \n",
    "    def on_epoch_end(self, epoch, logs={}):\n",
    "        print(\"ROC AUC for this fold is \", roc_auc_score(self.y_val, self.model.predict(X_val)))\n",
    "        \n",
    "class NNv1(BaseEstimator, ClassifierMixin):\n",
    "    def __init__(self,\n",
    "                 inp_shape=200,\n",
    "                 gaussian_noise=0.01,\n",
    "                 dense1_dim=32,\n",
    "                 dense2_dim=32,\n",
    "                 dense1_kwargs=None,\n",
    "                 dense2_kwargs=None,\n",
    "                 classifier_kwargs=None,\n",
    "                 optimizer=SGD,\n",
    "                 opt_kwargs=None,\n",
    "                 ):\n",
    "        self.inp_shape = inp_shape\n",
    "        self.gaussian_noise = gaussian_noise\n",
    "        self.dense1_dim = dense1_dim\n",
    "        self.dense2_dim = dense2_dim\n",
    "        self.dense1_kwargs = dense1_kwargs\n",
    "        self.dense2_kwargs = dense2_kwargs\n",
    "        self.classifier_kwargs = classifier_kwargs\n",
    "        self.optimizer = optimizer\n",
    "        self.opt_kwargs = opt_kwargs\n",
    "        self._default_initiaization()\n",
    "\n",
    "    def _default_initiaization(self):\n",
    "        if self.dense1_kwargs is None:\n",
    "            self.dense1_kwargs = {\"kernel_initializer\": \"glorot_uniform\"}\n",
    "        if self.dense2_kwargs is None:\n",
    "            self.dense2_kwargs = {\"kernel_initializer\": \"he_uniform\"}\n",
    "        if self.classifier_kwargs is None:\n",
    "            self.classifier_kwargs = {\"kernel_initializer\": \"he_uniform\"}\n",
    "        if self.opt_kwargs is None:\n",
    "            self.opt_kwargs = {}\n",
    "\n",
    "    def _build_model(self):\n",
    "        inp = Input(shape=(self.inp_shape,))\n",
    "        # x = GaussianNoise(self.gaussian_noise)(inp)\n",
    "        x = Reshape((self.inp_shape, 1))(inp)\n",
    "        d1 = Dense(self.dense1_dim, activation='tanh',)(x)\n",
    "        #d1 = TimeDistributed(Dropout(0.2))(d1)\n",
    "        d2 = Dense(self.dense1_dim, activation='relu',)(x)\n",
    "        #d2 = PReLU()(d2)\n",
    "        #d2 = TimeDistributed(Dropout(0.2))(d2)\n",
    "        x = concatenate([d1, d2])\n",
    "        x = Flatten()(x)\n",
    "        out = Dense(1, activation='sigmoid', **self.classifier_kwargs)(x)\n",
    "\n",
    "        model = Model(inputs=inp, outputs=out)\n",
    "        opt = self.optimizer(**self.opt_kwargs)\n",
    "        model.compile(loss='binary_crossentropy', optimizer=opt)\n",
    "        return model\n",
    "\n",
    "    def fit(self, X, y, *args, **kwargs):\n",
    "        self.model = self._build_model()\n",
    "        print(self.model.summary())\n",
    "        self.model.fit(X, y, *args, **kwargs)\n",
    "        return self\n",
    "\n",
    "    def predict(self, X, y=None, weight_path=None, **kwargs):\n",
    "        if self.model:\n",
    "            if weight_path is not None:\n",
    "                self.model.load_weights(weight_path)\n",
    "            y_hat = self.model.predict(X, **kwargs)\n",
    "        else:\n",
    "            raise ValueError(\"Model not fit yet\")\n",
    "        return y_hat"
   ]
  },
  {
   "cell_type": "code",
   "execution_count": null,
   "metadata": {},
   "outputs": [],
   "source": [
    "model = NNv1(opt_kwargs = {\"lr\": 0.01, \"momentum\": 0.9, \"nesterov\": True, \"clipnorm\": 1})\n",
    "y_preds_nn = np.zeros((len(y)))\n",
    "for tr_idx, val_idx in cvlist:\n",
    "    X_dev, y_dev = X_sc[tr_idx], y.iloc[tr_idx]\n",
    "    X_val, y_val = X_sc[val_idx], y.iloc[val_idx]\n",
    "    roc_auc = ROC_AUC((X_val, y_val))\n",
    "    \n",
    "    model.fit(X_dev, y_dev, validation_data=(X_val, y_val), epochs=20, batch_size=256, verbose=0, callbacks=[roc_auc])\n",
    "    val_preds = model.predict(X_val, batch_size=5000)\n",
    "    y_preds_nn[val_idx] = val_preds.flatten()"
   ]
  }
 ],
 "metadata": {
  "kernelspec": {
   "display_name": "Python 3",
   "language": "python",
   "name": "python3"
  },
  "language_info": {
   "codemirror_mode": {
    "name": "ipython",
    "version": 3
   },
   "file_extension": ".py",
   "mimetype": "text/x-python",
   "name": "python",
   "nbconvert_exporter": "python",
   "pygments_lexer": "ipython3",
   "version": "3.6.7"
  }
 },
 "nbformat": 4,
 "nbformat_minor": 2
}
